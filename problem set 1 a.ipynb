{
 "cells": [
  {
   "cell_type": "markdown",
   "id": "2917b748-6a7c-4a8a-bb0e-83ac74bbc96b",
   "metadata": {
    "tags": []
   },
   "source": [
    "# Problem Set 1"
   ]
  },
  {
   "cell_type": "markdown",
   "id": "2b24c52b-5851-48c7-bd94-8e001e78ad7f",
   "metadata": {
    "tags": []
   },
   "source": [
    "## Question 1 : What data type is each of the following (evaluate where necessary)?"
   ]
  },
  {
   "cell_type": "markdown",
   "id": "00b0e5f3-4b57-4b9f-8edc-ea5de207e9a2",
   "metadata": {
    "tags": []
   },
   "source": [
    "5 = Integer\n",
    "5.0 = float\n",
    "5 > 1= boolean\n",
    "'5'= string\n",
    "5 * 2 =integer\n",
    "'5' * 2 = string\n",
    "'5' + '2' =string\n",
    "5 / 2 = float\n",
    "5 % 2= integer\n",
    "{5, 2, 1} =set\n",
    "5 == 3 =boolean\n",
    "Pi (the number)= float"
   ]
  },
  {
   "cell_type": "markdown",
   "id": "d770d8bf-f27c-4910-9782-46c780f5e45d",
   "metadata": {},
   "source": [
    "## Question 2 : Write (and evaluate) C# expressions that answer these questions:"
   ]
  },
  {
   "cell_type": "markdown",
   "id": "c6881d92-7f77-48cb-9cfa-060afedacb71",
   "metadata": {},
   "source": [
    "### How many letters are there in 'Supercalifragilisticexpialidocious'?"
   ]
  },
  {
   "cell_type": "code",
   "execution_count": 11,
   "id": "32662149-9526-4f90-ba7c-dd13b6613b03",
   "metadata": {
    "tags": []
   },
   "outputs": [
    {
     "name": "stdout",
     "output_type": "stream",
     "text": [
      "Number of letters: 34\n"
     ]
    }
   ],
   "source": [
    "string word = \"Supercalifragilisticexpialidocious\";\n",
    "int letterCount = 0;\n",
    "\n",
    "foreach (char letter in word)\n",
    "{\n",
    "    if (Char.IsLetter(letter))\n",
    "    {\n",
    "        letterCount++;\n",
    "    }\n",
    "}\n",
    "\n",
    "Console.WriteLine(\"Number of letters: \" + letterCount);\n"
   ]
  },
  {
   "cell_type": "markdown",
   "id": "af52d4cd-f543-4710-9e1e-725d7c68e898",
   "metadata": {},
   "source": [
    "### b. Does 'Supercalifragilisticexpialidocious' contain 'ice' as a substring?"
   ]
  },
  {
   "cell_type": "code",
   "execution_count": 12,
   "id": "afd697be-a38e-4c1b-bf01-f7cce51891a3",
   "metadata": {
    "tags": []
   },
   "outputs": [
    {
     "name": "stdout",
     "output_type": "stream",
     "text": [
      "The word contains 'ice' as a substring.\n"
     ]
    }
   ],
   "source": [
    "string word = \"Supercalifragilisticexpialidocious\";\n",
    "string substringToFind = \"ice\";\n",
    "\n",
    "bool containsIce = false;\n",
    "\n",
    "for (int i = 0; i < word.Length - 2; i++)\n",
    "{\n",
    "    if (word.Substring(i, 3) == substringToFind)\n",
    "    {\n",
    "        containsIce = true;\n",
    "        break;\n",
    "    }\n",
    "}\n",
    "\n",
    "if (containsIce)\n",
    "{\n",
    "    Console.WriteLine(\"The word contains 'ice' as a substring.\");\n",
    "}\n",
    "else\n",
    "{\n",
    "    Console.WriteLine(\"The word does not contain 'ice' as a substring.\");\n",
    "}\n"
   ]
  },
  {
   "cell_type": "markdown",
   "id": "30c7654c-1465-4b31-bb59-f9b8a88a0a90",
   "metadata": {},
   "source": [
    "### c. Which of the following words is the longest: 'Supercalifragilisticexpialidocious', 'Honorificabilitudinitatibus', or 'Bababadalgharaghtakamminarronnkonn'?\n"
   ]
  },
  {
   "cell_type": "code",
   "execution_count": 13,
   "id": "d9f567ac-b00a-4271-8c5c-d7316bb02085",
   "metadata": {
    "tags": []
   },
   "outputs": [
    {
     "name": "stdout",
     "output_type": "stream",
     "text": [
      "The longest word is: Supercalifragilisticexpialidocious\n"
     ]
    }
   ],
   "source": [
    "string word1 = \"Supercalifragilisticexpialidocious\";\n",
    "string word2 = \"Honorificabilitudinitatibus\";\n",
    "string word3 = \"Bababadalgharaghtakamminarronnkonn\";\n",
    "\n",
    "int length1 = word1.Length;\n",
    "int length2 = word2.Length;\n",
    "int length3 = word3.Length;\n",
    "\n",
    "string longestWord = \"\";\n",
    "\n",
    "if (length1 >= length2 && length1 >= length3)\n",
    "{\n",
    "    longestWord = word1;\n",
    "}\n",
    "else if (length2 >= length1 && length2 >= length3)\n",
    "{\n",
    "    longestWord = word2;\n",
    "}\n",
    "else\n",
    "{\n",
    "    longestWord = word3;\n",
    "}\n",
    "\n",
    "Console.WriteLine(\"The longest word is: \" + longestWord);\n"
   ]
  },
  {
   "cell_type": "markdown",
   "id": "3abbb163-637b-4db1-9a87-9e4eb274f9a2",
   "metadata": {},
   "source": [
    "### d. Which composer comes first in the dictionary: 'Berlioz', 'Borodin', 'Brian', 'Bartok', 'Bellini', 'Buxtehude', 'Bernstein'. Which one comes last?"
   ]
  },
  {
   "cell_type": "code",
   "execution_count": 15,
   "id": "58286016-0940-4d4e-9011-24f5b464a36e",
   "metadata": {
    "tags": []
   },
   "outputs": [
    {
     "name": "stdout",
     "output_type": "stream",
     "text": [
      "First composer in the dictionary: Bartok\n",
      "Last composer in the dictionary: Buxtehude\n"
     ]
    }
   ],
   "source": [
    "string[] composers = { \"Berlioz\", \"Borodin\", \"Brian\", \"Bartok\", \"Bellini\", \"Buxtehude\", \"Bernstein\" };\n",
    "\n",
    "string firstComposer = composers[0];\n",
    "string lastComposer = composers[0];\n",
    "\n",
    "foreach (string composer in composers)\n",
    "{\n",
    "    if (composer.CompareTo(firstComposer) < 0)\n",
    "    {\n",
    "        firstComposer = composer;\n",
    "    }\n",
    "\n",
    "    if (composer.CompareTo(lastComposer) > 0)\n",
    "    {\n",
    "        lastComposer = composer;\n",
    "    }\n",
    "}\n",
    "\n",
    "Console.WriteLine(\"First composer in the dictionary: \" + firstComposer);\n",
    "Console.WriteLine(\"Last composer in the dictionary: \" + lastComposer);\n"
   ]
  },
  {
   "cell_type": "markdown",
   "id": "60a56c31-811c-44b4-9a01-396eb8aba2bf",
   "metadata": {},
   "source": [
    "## Question 3 :"
   ]
  },
  {
   "cell_type": "markdown",
   "id": "821337bc-87ac-45b8-a4ea-f1193c0c46e3",
   "metadata": {},
   "source": [
    " ### C#Implement function triangleArea(a,b,c) that takes as input the lengths of the 3sides of a triangle and returns the area of the triangle. By Heron's formula, the areaof a triangle with side lengths a, b, and c iss(s - a)(s - b)(s - c) , wheres = (a + b + c) /2.>>> triangleArea(2,2,2)1.7320508075688772"
   ]
  },
  {
   "cell_type": "code",
   "execution_count": 19,
   "id": "92b6a38b-9bb5-4d2c-83fe-06f245826055",
   "metadata": {
    "tags": []
   },
   "outputs": [
    {
     "data": {
      "text/html": [
       "<div class=\"dni-plaintext\"><pre>1.7320508075688772</pre></div><style>\r\n",
       ".dni-code-hint {\r\n",
       "    font-style: italic;\r\n",
       "    overflow: hidden;\r\n",
       "    white-space: nowrap;\r\n",
       "}\r\n",
       ".dni-treeview {\r\n",
       "    white-space: nowrap;\r\n",
       "}\r\n",
       ".dni-treeview td {\r\n",
       "    vertical-align: top;\r\n",
       "    text-align: start;\r\n",
       "}\r\n",
       "details.dni-treeview {\r\n",
       "    padding-left: 1em;\r\n",
       "}\r\n",
       "table td {\r\n",
       "    text-align: start;\r\n",
       "}\r\n",
       "table tr { \r\n",
       "    vertical-align: top; \r\n",
       "    margin: 0em 0px;\r\n",
       "}\r\n",
       "table tr td pre \r\n",
       "{ \r\n",
       "    vertical-align: top !important; \r\n",
       "    margin: 0em 0px !important;\r\n",
       "} \r\n",
       "table th {\r\n",
       "    text-align: start;\r\n",
       "}\r\n",
       "</style>"
      ]
     },
     "execution_count": 19,
     "metadata": {},
     "output_type": "execute_result"
    }
   ],
   "source": [
    "using System;\n",
    "\n",
    "public class Triangle\n",
    "{\n",
    "    public static double TriangleArea(double a, double b, double c)\n",
    "    {\n",
    "        double s = (a + b + c) / 2;\n",
    "        double area = Math.Sqrt(s * (s - a) * (s - b) * (s - c));\n",
    "        return area;\n",
    "    }\n",
    "}\n",
    "\n",
    "double result = Triangle.TriangleArea(2, 2, 2);\n",
    "result\n"
   ]
  },
  {
   "cell_type": "markdown",
   "id": "9f583e07-24c2-4ace-aeec-5924427c1df1",
   "metadata": {},
   "source": [
    "## Question 4 :"
   ]
  },
  {
   "cell_type": "markdown",
   "id": "791939fc-56bc-4f77-8553-1358a465b858",
   "metadata": {},
   "source": [
    "### Write a program in C# Sharp to separate odd and even integers in separate arrays.Go to the editorTest Data :Input the number of elements to be stored in the array :5Input 5 elements in the array :element - 0 : 25element - 1 : 47element - 2 : 42element - 3 : 56element - 4 : 32Expected Output:The Even elements are:42 56 32The Odd elements are :25 47"
   ]
  },
  {
   "cell_type": "code",
   "execution_count": 30,
   "id": "5327a063-3a12-4527-9408-17373bf338a9",
   "metadata": {
    "tags": []
   },
   "outputs": [
    {
     "name": "stdout",
     "output_type": "stream",
     "text": [
      "Even numbers: 42 56 32 \n",
      "Odd numbers: 23 47 "
     ]
    }
   ],
   "source": [
    "\n",
    "        int[] originalArray = { 23, 47, 42, 56, 32 };\n",
    "        int l = originalArray.Length;\n",
    "        int[] evenArray = new int[l]; // Initialize an array to store even numbers\n",
    "        int[] oddArray = new int[l];  // Initialize an array to store odd numbers\n",
    "\n",
    "        int evenCount = 0;\n",
    "        int oddCount = 0;\n",
    "\n",
    "        foreach (int num in originalArray)\n",
    "        {\n",
    "            if (num % 2 == 0)\n",
    "            {\n",
    "                evenArray[evenCount] = num;\n",
    "                evenCount++;\n",
    "            }\n",
    "            else\n",
    "            {\n",
    "                oddArray[oddCount] = num;\n",
    "                oddCount++;\n",
    "            }\n",
    "        }\n",
    "\n",
    "        // Print even numbers\n",
    "        Console.Write(\"Even numbers: \");\n",
    "        for (int i = 0; i < evenCount; i++)\n",
    "        {\n",
    "            Console.Write(evenArray[i] + \" \");\n",
    "        }\n",
    "\n",
    "        Console.WriteLine(); // Newline for separation\n",
    "\n",
    "        // Print odd numbers\n",
    "        Console.Write(\"Odd numbers: \");\n",
    "        for (int i = 0; i < oddCount; i++)\n",
    "        {\n",
    "            Console.Write(oddArray[i] + \" \");\n",
    "        }\n",
    "\n"
   ]
  },
  {
   "cell_type": "markdown",
   "id": "b921c973-ec98-4f0e-8508-ba4357575695",
   "metadata": {},
   "source": [
    "## Question 5"
   ]
  },
  {
   "cell_type": "markdown",
   "id": "a1d26267-4434-4b05-aa2b-0c686552ec89",
   "metadata": {},
   "source": [
    "### Write a function inside(x,y,x1,y1,x2,y2) that returns True or Falsedepending on whether the point (x,y) lies in the rectangle with lower leftcorner (x1,y1) and upper right corner (x2,y2).>>> inside(1,1,0,0,2,3)True>>> inside(-1,-1,0,0,2,3)Falseb."
   ]
  },
  {
   "cell_type": "code",
   "execution_count": 58,
   "id": "5a02caf9-83df-4f6f-8b6a-28045e7da154",
   "metadata": {
    "tags": []
   },
   "outputs": [
    {
     "name": "stdout",
     "output_type": "stream",
     "text": [
      "Inside (1, 1, 0, 0, 2, 3): True\n",
      "Inside (-1, -1, 0, 0, 2, 3): False\n"
     ]
    }
   ],
   "source": [
    "\n",
    "\n",
    "static bool Inside(double x, double y, double x1, double y1, double x2, double y2)\n",
    "{\n",
    "    return (x >= x1 && x <= x2 && y >= y1 && y <= y2);\n",
    "}\n",
    "\n",
    "bool insideRect1 = Inside(1, 1, 0, 0, 2, 3);\n",
    "bool insideRect2 = Inside(-1, -1, 0, 0, 2, 3);\n",
    "\n",
    "if (insideRect1)\n",
    "{\n",
    "    Console.WriteLine(\"Inside (1, 1, 0, 0, 2, 3): True\");\n",
    "}\n",
    "else\n",
    "{\n",
    "    Console.WriteLine(\"Inside (1, 1, 0, 0, 2, 3): False\");\n",
    "}\n",
    "\n",
    "if (insideRect2)\n",
    "{\n",
    "    Console.WriteLine(\"Inside (-1, -1, 0, 0, 2, 3): True\");\n",
    "}\n",
    "else\n",
    "{\n",
    "    Console.WriteLine(\"Inside (-1, -1, 0, 0, 2, 3): False\");\n",
    "}\n"
   ]
  },
  {
   "cell_type": "markdown",
   "id": "43377481-9f02-4f5c-85c2-f44383cc72dd",
   "metadata": {},
   "source": [
    "b. Use function inside() from part a. to write an expression that tests whetherthe point (1,1) lies in both of the following rectangles: one with lower leftcorner (0.3, 0.5) and upper right corner (1.1, 0.7) and the other with lowerleft corner (0.5, 0.2) and upper right corner (1.1, 2)"
   ]
  },
  {
   "cell_type": "markdown",
   "id": "555bd543-a374-4a13-902a-5875095a27be",
   "metadata": {},
   "source": [
    " "
   ]
  },
  {
   "cell_type": "code",
   "execution_count": 59,
   "id": "52054c99-1f00-4b60-93c3-4640b3a8d3e4",
   "metadata": {
    "tags": []
   },
   "outputs": [
    {
     "name": "stdout",
     "output_type": "stream",
     "text": [
      "Is (1, 1) inside the first rectangle False\n",
      "Is (1, 1) inside the second rectangle True\n"
     ]
    }
   ],
   "source": [
    "public static bool Inside(double x, double y, double x1, double y1, double x2, double y2)\n",
    "{\n",
    "    return x >= x1 && x <= x2 && y >= y1 && y <= y2;\n",
    "}\n",
    "bool isInsideRectangle1 = Inside(1, 1, 0.3, 0.5, 1.1, 0.7);\n",
    "bool isInsideRectangle2 = Inside(1, 1, 0.5, 0.2, 1.1, 2);\n",
    "\n",
    "Console.WriteLine(\"Is (1, 1) inside the first rectangle \" + isInsideRectangle1);\n",
    "Console.WriteLine(\"Is (1, 1) inside the second rectangle \" + isInsideRectangle2);\n",
    "\n"
   ]
  }
 ],
 "metadata": {
  "kernelspec": {
   "display_name": ".NET (C#)",
   "language": "C#",
   "name": ".net-csharp"
  },
  "language_info": {
   "file_extension": ".cs",
   "mimetype": "text/x-csharp",
   "name": "C#",
   "pygments_lexer": "csharp",
   "version": "11.0"
  }
 },
 "nbformat": 4,
 "nbformat_minor": 5
}
