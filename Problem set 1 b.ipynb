{
 "cells": [
  {
   "cell_type": "markdown",
   "id": "00f51c59",
   "metadata": {},
   "source": [
    "## Question 6\n",
    "### 16. You can turn a word into pig-Latin using the following two rules (simplified):\n",
    "### • If the word starts with a consonant, move that letter to the end and append\n",
    "### 'ay'. For example, 'happy' becomes 'appyhay' and 'pencil' becomes 'encilpay'.\n",
    "### • If the word starts with a vowel, simply append 'way' to the end of the word.\n",
    "### For example, 'enter' becomes 'enterway' and 'other' becomes 'otherway' . For\n",
    "### our purposes, there are 5 vowels: a, e, i, o, u (so we count y as a consonant).\n",
    "### Write a function pig() that takes a word (i.e., a string) as input and returns its pigLatin form. Your function should still work if the input word contains upper case\n",
    "### characters. Your output should always be lower case however"
   ]
  },
  {
   "cell_type": "code",
   "execution_count": 1,
   "id": "169af957",
   "metadata": {
    "tags": []
   },
   "outputs": [],
   "source": [
    "def pig(word):\n",
    "    wd = word.lower()\n",
    "    vowels=['a','e','i','o','u']\n",
    "    if wd[0] in vowels:\n",
    "        print('pig latin word is',wd+'way')\n",
    "    else :\n",
    "        print('pig latin word is',wd[1:]+wd[0]+'ay')"
   ]
  },
  {
   "cell_type": "code",
   "execution_count": 2,
   "id": "ad4944d5",
   "metadata": {
    "tags": []
   },
   "outputs": [
    {
     "name": "stdout",
     "output_type": "stream",
     "text": [
      "pig latin word is appyhay\n"
     ]
    }
   ],
   "source": [
    "pig('happy')"
   ]
  },
  {
   "cell_type": "code",
   "execution_count": 3,
   "id": "95344c98",
   "metadata": {
    "tags": []
   },
   "outputs": [
    {
     "name": "stdout",
     "output_type": "stream",
     "text": [
      "pig latin word is enterway\n"
     ]
    }
   ],
   "source": [
    "pig('enter')"
   ]
  },
  {
   "cell_type": "markdown",
   "id": "9cc67372",
   "metadata": {},
   "source": [
    "## Question 7\n",
    "### File bloodtype1.txt records blood-types of patients (A, B, AB, O or OO) at a clinic.\n",
    "### Write a function bldcount() that reads the file with name name and reports (i.e.,\n",
    "### prints) how many patients there are in each bloodtype."
   ]
  },
  {
   "cell_type": "code",
   "execution_count": 4,
   "id": "31bb83f2",
   "metadata": {
    "tags": []
   },
   "outputs": [
    {
     "name": "stdout",
     "output_type": "stream",
     "text": [
      "There are 15 patients of blood type A\n",
      "There are 1 patients of blood type B\n",
      "There are 13 patients of blood type AB\n",
      "There are 15 patients of blood type O\n",
      "There are 0 patients of blood type OO\n"
     ]
    }
   ],
   "source": [
    "def bldcount(string):\n",
    "    \n",
    "    a,b,ab,o,oo=0,0,0,0,0\n",
    "    i=0\n",
    "    #to open and read a file\n",
    "    f=open(string,'r')\n",
    "    word = f.read()\n",
    "    count = word.split()\n",
    "    #logic to get the count of blood type\n",
    "    while i < len(count):\n",
    "        if count[i]=='A':\n",
    "            a+=1\n",
    "        elif count[i]=='B':\n",
    "            b+=1\n",
    "        elif count[i]=='AB':\n",
    "            ab+=1\n",
    "        elif count[i]=='O':\n",
    "            o+=1\n",
    "        elif count[i]=='OO':\n",
    "            oo+=1\n",
    "        i+=1\n",
    "    print('There are {} patients of blood type A'.format(a))\n",
    "    print('There are {} patients of blood type B'.format(b))\n",
    "    print('There are {} patients of blood type AB'.format(ab))\n",
    "    print('There are {} patients of blood type O'.format(o))\n",
    "    print('There are {} patients of blood type OO'.format(oo))\n",
    "          \n",
    "#function call\n",
    "bldcount('bloodtype1.txt')"
   ]
  },
  {
   "cell_type": "markdown",
   "id": "9673c1ce",
   "metadata": {},
   "source": [
    "## Question 8\n",
    "### Write a function curconv() that takes as input:\n",
    "### 1. a currency represented using a string (e.g., 'JPY' for the Japanese Yen or\n",
    "### 'EUR' for the Euro)\n",
    "### 2. an amount\n",
    "### and then converts and returns the amount in US dollars."
   ]
  },
  {
   "cell_type": "code",
   "execution_count": 5,
   "id": "86867393",
   "metadata": {
    "tags": []
   },
   "outputs": [],
   "source": [
    "def curconv(cur,amt):\n",
    "    currates = {'AUD': 1.0345157,'CHF':1.0237414 ,'CNY':0.1550176,'DKK':0.1651442,'EUR':1.2296544 ,'GBP':1.5550989,'HKD':0.1270207, 'INR':0.0177643, 'JPY':0.01241401, 'MXN':0.0751848,'MYR':0.3145411, 'NOK':0.1677063,'NZD':0.8003591,'PHP':0.0233234,'SEK':0.148269,'SGD':0.788871,'THB':0.0313789}\n",
    "   \n",
    "    if cur in currates:\n",
    "        usdconv = currates[cur]*amt\n",
    "        \n",
    "    return usdconv\n"
   ]
  },
  {
   "cell_type": "code",
   "execution_count": 6,
   "id": "d9ee8a07",
   "metadata": {
    "tags": []
   },
   "outputs": [
    {
     "data": {
      "text/plain": [
       "122.96544"
      ]
     },
     "execution_count": 6,
     "metadata": {},
     "output_type": "execute_result"
    }
   ],
   "source": [
    "curconv('EUR', 100)"
   ]
  },
  {
   "cell_type": "code",
   "execution_count": 7,
   "id": "e39d4eaa",
   "metadata": {
    "tags": []
   },
   "outputs": [
    {
     "data": {
      "text/plain": [
       "1.241401"
      ]
     },
     "execution_count": 7,
     "metadata": {},
     "output_type": "execute_result"
    }
   ],
   "source": [
    " curconv('JPY', 100)"
   ]
  },
  {
   "cell_type": "markdown",
   "id": "f2a34375",
   "metadata": {},
   "source": [
    "## Question 9\n",
    "### Each of the following will cause an exception (an error). Identify what type of\n",
    "### exception each will cause"
   ]
  },
  {
   "cell_type": "markdown",
   "id": "241a38c2",
   "metadata": {},
   "source": [
    "### 1.Trying to add incompatible variables, as in\n",
    "### adding 6 + ‘a’\n"
   ]
  },
  {
   "cell_type": "code",
   "execution_count": 8,
   "id": "6556a1fe",
   "metadata": {
    "tags": []
   },
   "outputs": [],
   "source": [
    "#6+'a'\n",
    "#Error=unsupported operand type(s) for +: 'int' and 'str'\n"
   ]
  },
  {
   "cell_type": "markdown",
   "id": "0eb45d7b",
   "metadata": {},
   "source": [
    "### 2.Referring to the 12th item of a list that has only 10\n",
    "### items"
   ]
  },
  {
   "cell_type": "code",
   "execution_count": 9,
   "id": "d0d9e304",
   "metadata": {
    "tags": []
   },
   "outputs": [],
   "source": [
    "#Error = list index out of range"
   ]
  },
  {
   "cell_type": "markdown",
   "id": "10a928ee",
   "metadata": {},
   "source": [
    "### 3.Using a value that is out of range for a function’s\n",
    "### input, such as calling math.sqrt(-1.0)\n"
   ]
  },
  {
   "cell_type": "code",
   "execution_count": 10,
   "id": "9d27065e",
   "metadata": {
    "tags": []
   },
   "outputs": [],
   "source": [
    "#Error = math domain error"
   ]
  },
  {
   "cell_type": "markdown",
   "id": "5ce3a396",
   "metadata": {},
   "source": [
    "### 4.Using an undeclared variable, such as print(x)\n",
    "### when x has not been defined"
   ]
  },
  {
   "cell_type": "code",
   "execution_count": 11,
   "id": "92fa22f2",
   "metadata": {
    "tags": []
   },
   "outputs": [],
   "source": [
    "#Error = name 'x' is not defined"
   ]
  },
  {
   "cell_type": "markdown",
   "id": "b19390cc",
   "metadata": {},
   "source": [
    "### 5.Trying to open a file that does not exist, such as\n",
    "### mistyping the file name or looking in the wrong\n",
    "### directory. "
   ]
  },
  {
   "cell_type": "code",
   "execution_count": 12,
   "id": "fcbbe8b8",
   "metadata": {
    "tags": []
   },
   "outputs": [],
   "source": [
    "#Error =No such file or directory:'python.txt'"
   ]
  },
  {
   "cell_type": "markdown",
   "id": "21433568",
   "metadata": {},
   "source": [
    "### Question 10\n",
    "### Encryption is the process of hiding the meaning of a text by substituting letters in the\n",
    "### message with other letters, according to some system. If the process is successful, no\n",
    "### one but the intended recipient can understand the encrypted message. Cryptanalysis\n",
    "### refers to attempts to undo the encryption, even if some details of the encryption are\n",
    "### unknown (for example, if an encrypted message has been intercepted). The first step\n",
    "### of cryptanalysis is often to build up a table of letter frequencies in the encrypted text.\n",
    "### Assume that the string letters is already defined as\n",
    "### 'abcdefghijklmnopqrstuvwxyz'. Write a function called frequencies()\n",
    "### that takes a string as its only parameter, and returns a list of integers, showing the\n",
    "### number of times each character appears in the text. Your function may ignore any\n",
    "### characters that are not in letters. "
   ]
  },
  {
   "cell_type": "code",
   "execution_count": 13,
   "id": "d8bda501",
   "metadata": {
    "tags": []
   },
   "outputs": [],
   "source": [
    "def frequencies(text):\n",
    "    lwrcase = text.lower()\n",
    "    letters ='abcdefghijklmnopqrstuvwxyz'\n",
    "    freq = [0]*26\n",
    "    for char in lwrcase:\n",
    "        if char in letters:\n",
    "            index=letters.index(char)\n",
    "            freq[index] +=1\n",
    "        else:\n",
    "            freq[index]=1\n",
    "    return freq\n",
    "            \n",
    "        \n",
    "    \n",
    "    \n",
    "    \n",
    "    "
   ]
  },
  {
   "cell_type": "code",
   "execution_count": 14,
   "id": "f600ae71",
   "metadata": {
    "tags": []
   },
   "outputs": [
    {
     "data": {
      "text/plain": [
       "[1, 1, 1, 1, 5, 1, 1, 2, 1, 0, 1, 0, 1, 2, 4, 0, 1, 2, 0, 1, 1, 0, 1, 1, 0, 0]"
      ]
     },
     "execution_count": 14,
     "metadata": {},
     "output_type": "execute_result"
    }
   ],
   "source": [
    "frequencies('The quick red fox got bored and went home')"
   ]
  },
  {
   "cell_type": "code",
   "execution_count": 15,
   "id": "6193e578",
   "metadata": {
    "tags": []
   },
   "outputs": [
    {
     "data": {
      "text/plain": [
       "[1, 0, 0, 0, 1, 0, 0, 0, 0, 0, 0, 1, 0, 0, 0, 2, 0, 0, 0, 0, 0, 0, 0, 0, 0, 0]"
      ]
     },
     "execution_count": 15,
     "metadata": {},
     "output_type": "execute_result"
    }
   ],
   "source": [
    "frequencies('apple')"
   ]
  }
 ],
 "metadata": {
  "kernelspec": {
   "display_name": "Python 3 (ipykernel)",
   "language": "python",
   "name": "python3"
  },
  "language_info": {
   "codemirror_mode": {
    "name": "ipython",
    "version": 3
   },
   "file_extension": ".py",
   "mimetype": "text/x-python",
   "name": "python",
   "nbconvert_exporter": "python",
   "pygments_lexer": "ipython3",
   "version": "3.11.5"
  }
 },
 "nbformat": 4,
 "nbformat_minor": 5
}
